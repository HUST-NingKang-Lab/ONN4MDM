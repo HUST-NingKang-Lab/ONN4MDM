{
 "cells": [
  {
   "cell_type": "code",
   "execution_count": 39,
   "metadata": {},
   "outputs": [],
   "source": [
    "import livingTree as lt\n",
    "import graphviz as gvz\n",
    "\n",
    "tree = lt.SuperTree()\n",
    "tree = tree.from_pickle('../data/trees/biome_tree.pkl')\n",
    "#tree.show()\n",
    "tree.to_graphviz(filename='../tmp/microbial_ontology.dot')"
   ]
  },
  {
   "cell_type": "code",
   "execution_count": 65,
   "metadata": {},
   "outputs": [
    {
     "data": {
      "text/plain": [
       "4"
      ]
     },
     "execution_count": 65,
     "metadata": {},
     "output_type": "execute_result"
    }
   ],
   "source": [
    "len(tree.get_ids_by_level()[1])"
   ]
  },
  {
   "cell_type": "code",
   "execution_count": 62,
   "metadata": {},
   "outputs": [
    {
     "data": {
      "text/plain": [
       "[['Subgingival_plaque',\n",
       "  'Oral',\n",
       "  'Digestive_system',\n",
       "  'Human',\n",
       "  'Host_associated'],\n",
       " ['Sediment', 'Coastal', 'Marine', 'Aquatic', 'Environmental'],\n",
       " ['Cecum',\n",
       "  'Large_intestine',\n",
       "  'Digestive_system',\n",
       "  'Mammals',\n",
       "  'Host_associated'],\n",
       " ['Skin', 'Human', 'Host_associated'],\n",
       " ['Sediment', 'Intertidal_zone', 'Marine', 'Aquatic', 'Environmental'],\n",
       " ['Aphotic_zone', 'Oceanic', 'Marine', 'Aquatic', 'Environmental'],\n",
       " ['Periodontal_pockets',\n",
       "  'Oral',\n",
       "  'Digestive_system',\n",
       "  'Human',\n",
       "  'Host_associated'],\n",
       " ['Biofilm', 'Groundwater', 'Freshwater', 'Aquatic', 'Environmental'],\n",
       " ['Lake', 'Freshwater', 'Aquatic', 'Environmental'],\n",
       " ['Intestine', 'Digestive_system', 'Human', 'Host_associated'],\n",
       " ['Water_and_sludge', 'Wastewater', 'Engineered'],\n",
       " ['Agricultural', 'Soil', 'Terrestrial', 'Environmental'],\n",
       " ['Grasslands', 'Soil', 'Terrestrial', 'Environmental'],\n",
       " ['Saliva', 'Oral', 'Digestive_system', 'Human', 'Host_associated'],\n",
       " ['Forest_soil', 'Soil', 'Terrestrial', 'Environmental'],\n",
       " ['Sediment', 'Wetlands', 'Marine', 'Aquatic', 'Environmental'],\n",
       " ['Tropical_rainforest', 'Soil', 'Terrestrial', 'Environmental'],\n",
       " ['Salt_marsh', 'Intertidal_zone', 'Marine', 'Aquatic', 'Environmental'],\n",
       " ['Sediment',\n",
       "  'Alkaline',\n",
       "  'Non_marine_Saline_and_Alkaline',\n",
       "  'Aquatic',\n",
       "  'Environmental'],\n",
       " ['tongue_dorsum', 'Oral', 'Digestive_system', 'Human', 'Host_associated'],\n",
       " ['Wetlands', 'Soil', 'Terrestrial', 'Environmental'],\n",
       " ['Pelagic', 'Marine', 'Aquatic', 'Environmental'],\n",
       " ['Forest_soil', 'Rhizosphere', 'Plants', 'Host_associated'],\n",
       " ['Soil', 'Rhizosphere', 'Plants', 'Host_associated'],\n",
       " ['Oil_contaminated_sediments',\n",
       "  'Oceanic',\n",
       "  'Marine',\n",
       "  'Aquatic',\n",
       "  'Environmental'],\n",
       " ['Estuary', 'Intertidal_zone', 'Marine', 'Aquatic', 'Environmental'],\n",
       " ['Throat', 'Oral', 'Digestive_system', 'Human', 'Host_associated'],\n",
       " ['Fecal', 'Digestive_system', 'Mammals', 'Host_associated'],\n",
       " ['Photic_zone', 'Oceanic', 'Marine', 'Aquatic', 'Environmental'],\n",
       " ['Desert', 'Soil', 'Terrestrial', 'Environmental'],\n",
       " ['Endophytes', 'Phylloplane', 'Plants', 'Host_associated'],\n",
       " ['Sediment', 'Oceanic', 'Marine', 'Aquatic', 'Environmental'],\n",
       " ['Abyssal_plane', 'Oceanic', 'Marine', 'Aquatic', 'Environmental'],\n",
       " ['Oil_contaminated', 'Oceanic', 'Marine', 'Aquatic', 'Environmental'],\n",
       " ['Epiphytes', 'Rhizosphere', 'Plants', 'Host_associated'],\n",
       " ['Contaminated', 'Soil', 'Terrestrial', 'Environmental'],\n",
       " ['Microbial_mats',\n",
       "  'Hydrothermal_vents',\n",
       "  'Marine',\n",
       "  'Aquatic',\n",
       "  'Environmental'],\n",
       " ['Diffuse_flow', 'Hydrothermal_vents', 'Marine', 'Aquatic', 'Environmental'],\n",
       " ['Endophytes', 'Rhizoplane', 'Plants', 'Host_associated'],\n",
       " ['Uranium_contaminated', 'Soil', 'Terrestrial', 'Environmental'],\n",
       " ['Pharynx',\n",
       "  'Nasopharyngeal',\n",
       "  'Respiratory_system',\n",
       "  'Human',\n",
       "  'Host_associated'],\n",
       " ['Dissolved_organics_(anaerobic)',\n",
       "  'Nutrient_removal',\n",
       "  'Wastewater',\n",
       "  'Engineered'],\n",
       " ['Activated_Sludge', 'Wastewater', 'Engineered'],\n",
       " ['Rumen', 'Foregut', 'Digestive_system', 'Mammals', 'Host_associated'],\n",
       " ['Petrochemical', 'Industrial_wastewater', 'Wastewater', 'Engineered'],\n",
       " ['Permafrost', 'Soil', 'Terrestrial', 'Environmental'],\n",
       " ['Coral_reef', 'Intertidal_zone', 'Marine', 'Aquatic', 'Environmental'],\n",
       " ['Buccal_mucosa',\n",
       "  'Oral_cavity',\n",
       "  'Digestive_system',\n",
       "  'Mammals',\n",
       "  'Host_associated'],\n",
       " ['Female', 'Reproductive_system', 'Human', 'Host_associated'],\n",
       " ['Supragingival_plaque',\n",
       "  'Oral',\n",
       "  'Digestive_system',\n",
       "  'Human',\n",
       "  'Host_associated'],\n",
       " ['Blood', 'Circulatory_system', 'Human', 'Host_associated'],\n",
       " ['buccal_mucosa', 'Oral', 'Digestive_system', 'Human', 'Host_associated'],\n",
       " ['Sand', 'Soil', 'Terrestrial', 'Environmental'],\n",
       " ['Benthic', 'Oceanic', 'Marine', 'Aquatic', 'Environmental'],\n",
       " ['Sediment', 'Thermal_springs', 'Aquatic', 'Environmental'],\n",
       " ['Rumen', 'Stomach', 'Digestive_system', 'Mammals', 'Host_associated'],\n",
       " ['Sediment', 'Marine', 'Aquatic', 'Environmental'],\n",
       " ['Agricultural', 'Loam', 'Soil', 'Terrestrial', 'Environmental'],\n",
       " ['Microbialites', 'Intertidal_zone', 'Marine', 'Aquatic', 'Environmental'],\n",
       " ['Oil_seeps', 'Marine', 'Aquatic', 'Environmental'],\n",
       " ['Fecal', 'Large_intestine', 'Digestive_system', 'Human', 'Host_associated'],\n",
       " ['Mixed'],\n",
       " ['Sediment', 'Hydrothermal_vents', 'Marine', 'Aquatic', 'Environmental'],\n",
       " ['Digestive_system', 'Insecta', 'Host_associated'],\n",
       " ['Lymph_nodes', 'Lympathic_system', 'Human', 'Host_associated'],\n",
       " ['Sediment', 'Neritic_zone', 'Marine', 'Aquatic', 'Environmental'],\n",
       " ['Sputum',\n",
       "  'Pulmonary_system',\n",
       "  'Respiratory_system',\n",
       "  'Human',\n",
       "  'Host_associated'],\n",
       " ['Sediment',\n",
       "  'Hypersaline',\n",
       "  'Non_marine_Saline_and_Alkaline',\n",
       "  'Aquatic',\n",
       "  'Environmental'],\n",
       " ['Agricultural_wastewater',\n",
       "  'Industrial_wastewater',\n",
       "  'Wastewater',\n",
       "  'Engineered'],\n",
       " ['Volcanic', 'Marine', 'Aquatic', 'Environmental'],\n",
       " ['Boreal_forest', 'Soil', 'Terrestrial', 'Environmental'],\n",
       " ['Nasal_cavity',\n",
       "  'Nasopharyngeal',\n",
       "  'Respiratory_system',\n",
       "  'Human',\n",
       "  'Host_associated'],\n",
       " ['Dissolved_organics_(aerobic)',\n",
       "  'Nutrient_removal',\n",
       "  'Wastewater',\n",
       "  'Engineered'],\n",
       " ['Sediment', 'Aquatic', 'Environmental'],\n",
       " ['Marginal_Sea', 'Marine', 'Aquatic', 'Environmental'],\n",
       " ['Black_smokers', 'Hydrothermal_vents', 'Marine', 'Aquatic', 'Environmental'],\n",
       " ['Sediment', 'Cold_seeps', 'Marine', 'Aquatic', 'Environmental'],\n",
       " ['Agricultural_land', 'Crop', 'Soil', 'Terrestrial', 'Environmental'],\n",
       " ['Fecal',\n",
       "  'Large_intestine',\n",
       "  'Digestive_system',\n",
       "  'Mammals',\n",
       "  'Host_associated'],\n",
       " ['Root', 'Plants', 'Host_associated'],\n",
       " ['posterior_fornix',\n",
       "  'Vagina',\n",
       "  'Reproductive_system',\n",
       "  'Human',\n",
       "  'Host_associated'],\n",
       " ['Oil_contaminated_sediment', 'Marine', 'Aquatic', 'Environmental'],\n",
       " ['Salt_crystallizer_pond',\n",
       "  'Non_marine_Saline_and_Alkaline',\n",
       "  'Aquatic',\n",
       "  'Environmental'],\n",
       " ['Mine_water', 'Industrial_wastewater', 'Wastewater', 'Engineered'],\n",
       " ['Mangrove_swamp', 'Intertidal_zone', 'Marine', 'Aquatic', 'Environmental']]"
      ]
     },
     "execution_count": 62,
     "metadata": {},
     "output_type": "execute_result"
    }
   ],
   "source": [
    "paths = tree.get_paths_to_leaves()\n",
    "paths = [[path[len(path)-i].split('-')[-1] for i in range(1, len(path))] for path in paths]\n",
    "paths"
   ]
  },
  {
   "cell_type": "code",
   "execution_count": 48,
   "metadata": {},
   "outputs": [],
   "source": [
    "src = gvz.render(engine='sfdp', format='pdf', filepath='../tmp/microbial_ontology.dot', \n",
    "                 renderer ='cairo', formatter ='cairo')\n",
    "    #G.layout(prog='dot')\n",
    "    #src#.render()"
   ]
  },
  {
   "cell_type": "code",
   "execution_count": 35,
   "metadata": {},
   "outputs": [
    {
     "data": {
      "text/plain": [
       "{'circo', 'dot', 'fdp', 'neato', 'osage', 'patchwork', 'sfdp', 'twopi'}"
      ]
     },
     "execution_count": 35,
     "metadata": {},
     "output_type": "execute_result"
    }
   ],
   "source": [
    "gvz.ENGINES"
   ]
  }
 ],
 "metadata": {
  "kernelspec": {
   "display_name": "Python 3",
   "language": "python",
   "name": "python3"
  },
  "language_info": {
   "codemirror_mode": {
    "name": "ipython",
    "version": 3
   },
   "file_extension": ".py",
   "mimetype": "text/x-python",
   "name": "python",
   "nbconvert_exporter": "python",
   "pygments_lexer": "ipython3",
   "version": "3.8.2"
  },
  "widgets": {
   "application/vnd.jupyter.widget-state+json": {
    "state": {},
    "version_major": 2,
    "version_minor": 0
   }
  }
 },
 "nbformat": 4,
 "nbformat_minor": 4
}
